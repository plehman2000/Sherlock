{
 "cells": [
  {
   "cell_type": "code",
   "execution_count": 1,
   "metadata": {},
   "outputs": [],
   "source": [
    "from functions import *\n"
   ]
  },
  {
   "cell_type": "markdown",
   "metadata": {},
   "source": [
    "### Tag Meanings\n",
    "- PERSON People, including fictional\n",
    "- NORP Nationalities or religious or political groups\n",
    "- FACILITY Buildings, airports, highways, bridges, etc.\n",
    "- ORGANIZATION Companies, agencies, institutions, etc.\n",
    "- GPE Countries, cities, states\n",
    "- LOCATION Non-GPE locations, mountain ranges, bodies of water\n",
    "- PRODUCT Vehicles, weapons, foods, etc. (Not services)\n",
    "- EVENT Named hurricanes, battles, wars, sports events, etc.\n",
    "- WORK OF ART Titles of books, songs, etc.\n",
    "- LAW Named documents made into laws \n",
    "\n",
    "- LANGUAGE Any named language\n",
    "### Excluded\n",
    "- DATE Absolute or relative dates or periods\n",
    "- TIME Times smaller than a day\n",
    "- PERCENT Percentage (including “%”)\n",
    "- MONEY Monetary values, including unit\n",
    "- QUANTITY Measurements, as of weight or distance\n",
    "- ORDINAL “first”, “second”\n",
    "- CARDINAL Numerals that do not fall under another type"
   ]
  },
  {
   "cell_type": "code",
   "execution_count": 2,
   "metadata": {},
   "outputs": [],
   "source": [
    "link = 'https://www.youtube.com/watch?v=br0e-strgZU&t=30s'\n",
    "transcript = getTranscriptFromURL(link)\n",
    "\n",
    "    "
   ]
  },
  {
   "cell_type": "code",
   "execution_count": 4,
   "metadata": {},
   "outputs": [
    {
     "name": "stdout",
     "output_type": "stream",
     "text": [
      "[\"Evergrande Group, a Chinese property developer, plans to sell most of its assets and have a state-run bad debt manager take over anything that isn't sold. This is good news for creditors because it looks like a clearer plan is going to emerge. However, the proposed time frame of six months is quite long and investors have been quite frayed when it comes to evergrande\"] {'china': \"China (Chinese: 中国; pinyin: Zhōngguó), officially the People's Republic of China (PRC; Chinese: 中华人民共和国; pinyin: Zhōnghuá Rénmín Gònghéguó), is a country in East Asia. \"}\n"
     ]
    }
   ],
   "source": [
    "#print(transcript)\n",
    "summary = getSummaryFromTranscript(transcript)\n",
    "ents = stampsToEnts(transcript)\n",
    "ent_dict = creatEntityDefinitions(ents)\n",
    "print(summary, ent_dict)"
   ]
  }
 ],
 "metadata": {
  "interpreter": {
   "hash": "797a258c5e0138499813c5bcd8925e67ef79289af20fce8701ba95a0c64ae90e"
  },
  "kernelspec": {
   "display_name": "Python 3.9.7 64-bit ('base': conda)",
   "language": "python",
   "name": "python3"
  },
  "language_info": {
   "codemirror_mode": {
    "name": "ipython",
    "version": 3
   },
   "file_extension": ".py",
   "mimetype": "text/x-python",
   "name": "python",
   "nbconvert_exporter": "python",
   "pygments_lexer": "ipython3",
   "version": "3.9.10"
  },
  "orig_nbformat": 4
 },
 "nbformat": 4,
 "nbformat_minor": 2
}
