{
 "cells": [
  {
   "cell_type": "code",
   "execution_count": 1,
   "metadata": {},
   "outputs": [
    {
     "name": "stderr",
     "output_type": "stream",
     "text": [
      "E:\\Applications\\Anaconda\\envs\\swamphacks\\lib\\site-packages\\fuzzywuzzy\\fuzz.py:11: UserWarning: Using slow pure-python SequenceMatcher. Install python-Levenshtein to remove this warning\n",
      "  warnings.warn('Using slow pure-python SequenceMatcher. Install python-Levenshtein to remove this warning')\n"
     ]
    }
   ],
   "source": [
    "from functions import *\n"
   ]
  },
  {
   "cell_type": "markdown",
   "metadata": {},
   "source": [
    "### Tag Meanings\n",
    "- PERSON People, including fictional\n",
    "- NORP Nationalities or religious or political groups\n",
    "- FACILITY Buildings, airports, highways, bridges, etc.\n",
    "- ORGANIZATION Companies, agencies, institutions, etc.\n",
    "- GPE Countries, cities, states\n",
    "- LOCATION Non-GPE locations, mountain ranges, bodies of water\n",
    "- PRODUCT Vehicles, weapons, foods, etc. (Not services)\n",
    "- EVENT Named hurricanes, battles, wars, sports events, etc.\n",
    "- WORK OF ART Titles of books, songs, etc.\n",
    "- LAW Named documents made into laws \n",
    "\n",
    "- LANGUAGE Any named language\n",
    "### Excluded\n",
    "- DATE Absolute or relative dates or periods\n",
    "- TIME Times smaller than a day\n",
    "- PERCENT Percentage (including “%”)\n",
    "- MONEY Monetary values, including unit\n",
    "- QUANTITY Measurements, as of weight or distance\n",
    "- ORDINAL “first”, “second”\n",
    "- CARDINAL Numerals that do not fall under another type"
   ]
  },
  {
   "cell_type": "code",
   "execution_count": 2,
   "metadata": {},
   "outputs": [],
   "source": [
    "link = 'https://www.youtube.com/watch?v=br0e-strgZU&t=30s'\n",
    "transcript = getTranscriptFromURL(link)\n",
    "\n",
    "    "
   ]
  },
  {
   "cell_type": "code",
   "execution_count": 3,
   "metadata": {},
   "outputs": [],
   "source": [
    "#print(transcript)\n",
    "summary = getSummaryFromTranscript(transcript)\n",
    "ents = stampsToEnts(transcript)\n",
    "ent_dict = creatEntityDefinitions(ents)\n",
    "#print(summary, ent_dict)"
   ]
  },
  {
   "cell_type": "code",
   "execution_count": 10,
   "metadata": {},
   "outputs": [
    {
     "name": "stdout",
     "output_type": "stream",
     "text": [
      "{'chinese': [['china', 67, [17.359, 156.8]]]}\n"
     ]
    }
   ],
   "source": [
    "s = getEntTsPairs(ents) \n",
    "p = fuzzySearch('chinese', s)\n",
    "print(p)"
   ]
  }
 ],
 "metadata": {
  "interpreter": {
   "hash": "797a258c5e0138499813c5bcd8925e67ef79289af20fce8701ba95a0c64ae90e"
  },
  "kernelspec": {
   "display_name": "Python 3.9.7 64-bit ('base': conda)",
   "language": "python",
   "name": "python3"
  },
  "language_info": {
   "codemirror_mode": {
    "name": "ipython",
    "version": 3
   },
   "file_extension": ".py",
   "mimetype": "text/x-python",
   "name": "python",
   "nbconvert_exporter": "python",
   "pygments_lexer": "ipython3",
   "version": "3.9.10"
  },
  "orig_nbformat": 4
 },
 "nbformat": 4,
 "nbformat_minor": 2
}
