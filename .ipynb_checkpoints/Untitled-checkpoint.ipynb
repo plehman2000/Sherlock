{
 "cells": [
  {
   "cell_type": "code",
   "execution_count": 1,
   "id": "31f68125-3860-4c2c-9533-c2129068efdf",
   "metadata": {},
   "outputs": [
    {
     "name": "stdout",
     "output_type": "stream",
     "text": [
      "['5Y6HSHwhVlY', '5Y6HSHwhVlY', '5Y6HSHwhVlY', '5Y6HSHwhVlY', '5Y6HSHwhVlY', '5Y6HSHwhVlY', '5Y6HSHwhVlY']\n"
     ]
    }
   ],
   "source": [
    "import re\n",
    "\n",
    "test_links = \"\"\"\n",
    "    'http://www.youtube.com/watch?v=5Y6HSHwhVlY',\n",
    "    'http://www.youtube.com/watch?/watch?other_param&v=5Y6HSHwhVlY',\n",
    "    'http://www.youtube.com/v/5Y6HSHwhVlY',\n",
    "    'http://youtu.be/5Y6HSHwhVlY', \n",
    "    'http://www.youtube.com/embed/5Y6HSHwhVlY?rel=0\" frameborder=\"0\"',\n",
    "    'http://m.youtube.com/v/5Y6HSHwhVlY',\n",
    "    'https://www.youtube-nocookie.com/v/5Y6HSHwhVlY?version=3&amp;hl=en_US',\n",
    "    'http://www.youtube.com/',\n",
    "    'http://www.youtube.com/?feature=ytca\n",
    "\"\"\"\n",
    "\n",
    "pattern = r'(?:https?:\\/\\/)?(?:[0-9A-Z-]+\\.)?(?:youtube|youtu|youtube-nocookie)\\.(?:com|be)\\/(?:watch\\?v=|watch\\?.+&v=|embed\\/|v\\/|.+\\?v=)?([^&=\\n%\\?]{11})'\n",
    "\n",
    "result = re.findall(pattern, test_links, re.MULTILINE | re.IGNORECASE)\n",
    "\n",
    "print(result)"
   ]
  },
  {
   "cell_type": "code",
   "execution_count": 6,
   "id": "f3ede774-18cf-49ae-be8c-32a858122c63",
   "metadata": {},
   "outputs": [],
   "source": [
    "test_link_2 = \"https://www.youtube.com/watch?v=lLiCCHg6q6A\"\n",
    "pattern = r'(?:https?:\\/\\/)?(?:[0-9A-Z-]+\\.)?(?:youtube|youtu|youtube-nocookie)\\.(?:com|be)\\/(?:watch\\?v=|watch\\?.+&v=|embed\\/|v\\/|.+\\?v=)?([^&=\\n%\\?]{11})'\n",
    "result = re.findall(pattern, test_link_2, re.IGNORECASE)"
   ]
  },
  {
   "cell_type": "code",
   "execution_count": 7,
   "id": "03d88422-3afa-4b23-ab5f-6cf24a3c25e4",
   "metadata": {},
   "outputs": [
    {
     "data": {
      "text/plain": [
       "['lLiCCHg6q6A']"
      ]
     },
     "execution_count": 7,
     "metadata": {},
     "output_type": "execute_result"
    }
   ],
   "source": [
    "result"
   ]
  },
  {
   "cell_type": "code",
   "execution_count": 8,
   "id": "f5ef1af3-82da-4a07-a299-36ef82aba977",
   "metadata": {},
   "outputs": [],
   "source": [
    "def getIDFromURL(youtube_url):\n",
    "    pattern = r'(?:https?:\\/\\/)?(?:[0-9A-Z-]+\\.)?(?:youtube|youtu|youtube-nocookie)\\.(?:com|be)\\/(?:watch\\?v=|watch\\?.+&v=|embed\\/|v\\/|.+\\?v=)?([^&=\\n%\\?]{11})'\n",
    "    result = re.findall(pattern, youtube_url, re.IGNORECASE)\n",
    "    \n",
    "    return result[0]\n"
   ]
  },
  {
   "cell_type": "code",
   "execution_count": null,
   "id": "d988358c-c7c5-425d-9f44-03d1be01bace",
   "metadata": {},
   "outputs": [],
   "source": []
  },
  {
   "cell_type": "code",
   "execution_count": null,
   "id": "43b57f0d-a79d-4ed6-8d02-da501282605e",
   "metadata": {},
   "outputs": [],
   "source": [
    "getIDFromURL(test_link_2)"
   ]
  }
 ],
 "metadata": {
  "kernelspec": {
   "display_name": "Python 3",
   "language": "python",
   "name": "python3"
  },
  "language_info": {
   "codemirror_mode": {
    "name": "ipython",
    "version": 3
   },
   "file_extension": ".py",
   "mimetype": "text/x-python",
   "name": "python",
   "nbconvert_exporter": "python",
   "pygments_lexer": "ipython3",
   "version": "3.8.8"
  }
 },
 "nbformat": 4,
 "nbformat_minor": 5
}
